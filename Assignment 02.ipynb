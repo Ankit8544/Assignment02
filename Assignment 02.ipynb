{
 "cells": [
  {
   "cell_type": "markdown",
   "id": "329fdd66-861f-43ca-bf7f-abcd5c2144b4",
   "metadata": {},
   "source": [
    "Q No.01-    How do you comment code in Python? What are the different types of comments?"
   ]
  },
  {
   "cell_type": "markdown",
   "id": "1d189fc7-e37f-4891-a180-21dea220290b",
   "metadata": {},
   "source": [
    "Ans:-"
   ]
  },
  {
   "cell_type": "markdown",
   "id": "5f527742-7b86-4099-958d-2c5b2f642650",
   "metadata": {},
   "source": [
    "Comments in Python is the inclusion of short descriptions along with the code to increase its readability.\n",
    "A developer uses them to write his or her thought process while writing the code. \n",
    "It explains the basic logic behind why a particular line of code was written.\n",
    "They are just meant for the coders themselves or other developers to understand a piece of code, \n",
    "especially since the Python interpreter completely ignores comments in Python."
   ]
  },
  {
   "cell_type": "markdown",
   "id": "897fb7b8-3182-4061-a617-4af2f6673e19",
   "metadata": {},
   "source": [
    "Types of Comment:"
   ]
  },
  {
   "cell_type": "markdown",
   "id": "c28c65ed-d1e4-47a2-af3d-f3eb179f9cbe",
   "metadata": {},
   "source": [
    "1. Single Line Comments"
   ]
  },
  {
   "cell_type": "code",
   "execution_count": 1,
   "id": "af446d71-ae66-4ac0-bf66-33ea395204d9",
   "metadata": {},
   "outputs": [
    {
     "name": "stdout",
     "output_type": "stream",
     "text": [
      "10\n",
      "-6\n",
      "16\n",
      "4.0\n"
     ]
    }
   ],
   "source": [
    "a=8\n",
    "b=2\n",
    "\n",
    "#Add(+)\n",
    "w= a+b\n",
    "print(w)\n",
    "\n",
    "#Sub(-)\n",
    "x= b-a\n",
    "print(x)\n",
    "\n",
    "#Mul(*)\n",
    "y= a*b\n",
    "print(y)\n",
    "\n",
    "#Div(/)\n",
    "z= a/b\n",
    "print(z)"
   ]
  },
  {
   "cell_type": "markdown",
   "id": "0e6f5ffc-0cd9-4536-91c2-4e9719de66ea",
   "metadata": {},
   "source": [
    "2. Multi Line Comments"
   ]
  },
  {
   "cell_type": "code",
   "execution_count": 2,
   "id": "0fdf6cb2-5370-4390-8591-cc8578f62b38",
   "metadata": {},
   "outputs": [
    {
     "name": "stdout",
     "output_type": "stream",
     "text": [
      "Hello, World!\n"
     ]
    }
   ],
   "source": [
    "#This is a comment\n",
    "#written in\n",
    "#more than just one line\n",
    "print(\"Hello, World!\")"
   ]
  },
  {
   "cell_type": "markdown",
   "id": "4e2af1f6-9e95-4dd7-b4ed-43422c741a5b",
   "metadata": {},
   "source": [
    "Since Python will ignore string literals that are not assigned to a variable, you can add a multiline string (triple quotes) in your code, and place your comment inside it:"
   ]
  },
  {
   "cell_type": "code",
   "execution_count": 3,
   "id": "387d8a76-953f-4b94-b0e5-08d1161d1920",
   "metadata": {},
   "outputs": [
    {
     "name": "stdout",
     "output_type": "stream",
     "text": [
      "Hello, World!\n"
     ]
    }
   ],
   "source": [
    "\"\"\"\n",
    "This is a comment\n",
    "written in \n",
    "more than just one line\n",
    "\"\"\"\n",
    "print(\"Hello, World!\") "
   ]
  },
  {
   "cell_type": "markdown",
   "id": "248d19a5-45cc-45b0-aad2-7ca140a4e9fe",
   "metadata": {},
   "source": [
    "OR"
   ]
  },
  {
   "cell_type": "code",
   "execution_count": 4,
   "id": "a47cdb24-a4d3-4bf4-ba7f-effea5fa2584",
   "metadata": {},
   "outputs": [
    {
     "name": "stdout",
     "output_type": "stream",
     "text": [
      "Hello, World!\n"
     ]
    }
   ],
   "source": [
    "'''\n",
    "This is a comment\n",
    "written in \n",
    "more than just one line\n",
    "'''\n",
    "print(\"Hello, World!\") "
   ]
  },
  {
   "cell_type": "markdown",
   "id": "57f33150-76b2-44ea-b792-14a93f590781",
   "metadata": {},
   "source": [
    "        x        x        x        x        x        x        x        x        x        x                "
   ]
  },
  {
   "cell_type": "markdown",
   "id": "f234612c-e033-4175-aa32-423f606bc058",
   "metadata": {},
   "source": [
    "Q No.02-    What are variables in Python? How do you declare and assign values to variables?"
   ]
  },
  {
   "cell_type": "markdown",
   "id": "a8cd670f-a425-4d2a-a225-ee0d918de411",
   "metadata": {},
   "source": [
    "Ans:-"
   ]
  },
  {
   "cell_type": "markdown",
   "id": "92f7b10e-5ec3-4dc7-ac55-4c958c36b40c",
   "metadata": {},
   "source": [
    "Variables are containers for storing data values."
   ]
  },
  {
   "cell_type": "markdown",
   "id": "cbbba9ae-70be-473c-857d-a031b2c08e26",
   "metadata": {},
   "source": [
    "Declaretion of Variable:"
   ]
  },
  {
   "cell_type": "code",
   "execution_count": 5,
   "id": "7060561b-b2bc-4a22-a0ac-98a9e99e0761",
   "metadata": {},
   "outputs": [],
   "source": [
    "x = 5 #Here x is a varianle\n",
    "y = \"John\" #Here y is a variable"
   ]
  },
  {
   "cell_type": "markdown",
   "id": "783cac16-f9d6-44ae-9f12-ad7ae9220bd8",
   "metadata": {},
   "source": [
    "Assign values to Variables:"
   ]
  },
  {
   "cell_type": "code",
   "execution_count": 6,
   "id": "34066c4f-d3e9-40ad-adaf-68e0d84eb8b0",
   "metadata": {},
   "outputs": [
    {
     "name": "stdout",
     "output_type": "stream",
     "text": [
      "5\n",
      "Here 5 is an assign value of variable x\n",
      "John\n",
      "Here John is an assign value of variable y\n"
     ]
    }
   ],
   "source": [
    "x = 5 \n",
    "print(x) \n",
    "print(f\"Here {x} is an assign value of variable x\")\n",
    "y = \"John\" \n",
    "print(y) \n",
    "print(f\"Here {y} is an assign value of variable y\")"
   ]
  },
  {
   "cell_type": "markdown",
   "id": "0eb89b0b-925e-4e58-9570-3d991a89943b",
   "metadata": {},
   "source": [
    "        x        x        x        x        x        x        x        x        x        x                "
   ]
  },
  {
   "cell_type": "markdown",
   "id": "4ae12eb7-4038-4f64-b871-3b14f88d0f42",
   "metadata": {},
   "source": [
    "Q No.03-    How do you convert one data type to another in Python?"
   ]
  },
  {
   "cell_type": "markdown",
   "id": "bdbe8511-98c9-4f58-9755-f4598f94bc7e",
   "metadata": {},
   "source": [
    "Ans:-"
   ]
  },
  {
   "cell_type": "code",
   "execution_count": 9,
   "id": "7640b302-f269-4d8e-bb6c-4bcf686c9cdf",
   "metadata": {},
   "outputs": [
    {
     "name": "stdout",
     "output_type": "stream",
     "text": [
      "4.0\n",
      "Here a is int, after this it is converted into float\n",
      "(4+0j)\n",
      "Here a is int, after this it is converted into complex\n"
     ]
    }
   ],
   "source": [
    "a=4 #int\n",
    "x=print(float(a)) \n",
    "print(\"Here a is int, after this it is converted into float\")\n",
    "y=print(complex(a))\n",
    "print(\"Here a is int, after this it is converted into complex\")"
   ]
  },
  {
   "cell_type": "markdown",
   "id": "c92d11cf-45a9-4199-ae99-d6175f13642f",
   "metadata": {},
   "source": [
    "        x        x        x        x        x        x        x        x        x        x                "
   ]
  },
  {
   "cell_type": "markdown",
   "id": "c9311ca3-af6b-4433-8c5c-d3d45170f3ec",
   "metadata": {},
   "source": [
    "Q No.04-    How do you write and execute a Python script from the command line?"
   ]
  },
  {
   "cell_type": "markdown",
   "id": "8c4d93da-10ac-41b0-86d5-3be6d02bdc70",
   "metadata": {},
   "source": [
    "Ans:-"
   ]
  },
  {
   "cell_type": "markdown",
   "id": "f6407074-baeb-4ef6-ab0f-9aea0fe0d4b7",
   "metadata": {},
   "source": [
    "Step_01 :- Open Command Prompt"
   ]
  },
  {
   "cell_type": "raw",
   "id": "00c6012b-f6d9-476c-b3c4-5ae5bcefb1eb",
   "metadata": {},
   "source": [
    "Microsoft Windows [Version 10.0.22621.1702]\n",
    "(c) Microsoft Corporation. All rights reserved.\n",
    "\n",
    "C:\\Users\\HP>"
   ]
  },
  {
   "cell_type": "markdown",
   "id": "fc70cdcf-854b-477d-8306-bbd0b8f2c4d1",
   "metadata": {},
   "source": [
    "Step_02 :- type py and press Enter"
   ]
  },
  {
   "cell_type": "raw",
   "id": "709ae425-cac1-4372-8be9-01364e0ccb83",
   "metadata": {},
   "source": [
    "Microsoft Windows [Version 10.0.22621.1702]\n",
    "(c) Microsoft Corporation. All rights reserved.\n",
    "\n",
    "C:\\Users\\HP>py\n",
    "Python 3.11.2 (tags/v3.11.2:878ead1, Feb  7 2023, 16:38:35) [MSC v.1934 64 bit (AMD64)] on win32\n",
    "Type \"help\", \"copyright\", \"credits\" or \"license\" for more information.\n",
    ">>> "
   ]
  },
  {
   "cell_type": "markdown",
   "id": "1e93eeb4-63c7-4ef0-bc86-6f1970a63461",
   "metadata": {},
   "source": [
    "Step_03 :- Write the code you Want to execute and press Enter"
   ]
  },
  {
   "cell_type": "markdown",
   "id": "d2b2a13b-487a-4a08-99f4-663c8d96820e",
   "metadata": {},
   "source": [
    "For exampe - Wrire print(\"Hello, World!\") and press Enter"
   ]
  },
  {
   "cell_type": "raw",
   "id": "be99a001-64a9-4ec5-8996-d807b654ed75",
   "metadata": {},
   "source": [
    "Microsoft Windows [Version 10.0.22621.1702]\n",
    "(c) Microsoft Corporation. All rights reserved.\n",
    "\n",
    "C:\\Users\\HP>py\n",
    "Python 3.11.2 (tags/v3.11.2:878ead1, Feb  7 2023, 16:38:35) [MSC v.1934 64 bit (AMD64)] on win32\n",
    "Type \"help\", \"copyright\", \"credits\" or \"license\" for more information.\n",
    ">>> print(\"Hello, World!\")\n",
    "Hello, World!\n",
    ">>>"
   ]
  },
  {
   "cell_type": "markdown",
   "id": "38c62be0-06c4-4b8f-80c8-41b4e81f174b",
   "metadata": {},
   "source": [
    "        x        x        x        x        x        x        x        x        x        x                "
   ]
  },
  {
   "cell_type": "markdown",
   "id": "f8769858-aaf7-453b-a7be-abf6ce8a2d3a",
   "metadata": {},
   "source": [
    "Q No.05-    Given a list my_list = [1,2,3, 4, 5], write the code to slice the list and obtain the sub-list [2,3]."
   ]
  },
  {
   "cell_type": "markdown",
   "id": "a11c7fce-e340-4095-a581-bc43a0ed36ed",
   "metadata": {},
   "source": [
    "Ans:-"
   ]
  },
  {
   "cell_type": "code",
   "execution_count": 10,
   "id": "116ebd98-6ca7-47c8-8515-22bcf0f42afe",
   "metadata": {},
   "outputs": [],
   "source": [
    "my_list = [1,2,3,4,5]"
   ]
  },
  {
   "cell_type": "code",
   "execution_count": 11,
   "id": "f869b308-78fd-423b-8cb3-5aa9228878e1",
   "metadata": {},
   "outputs": [
    {
     "data": {
      "text/plain": [
       "[2, 3]"
      ]
     },
     "execution_count": 11,
     "metadata": {},
     "output_type": "execute_result"
    }
   ],
   "source": [
    "my_list[1:3]"
   ]
  },
  {
   "cell_type": "markdown",
   "id": "43285106-af3d-4258-b87d-24d02337ac20",
   "metadata": {},
   "source": [
    "        x        x        x        x        x        x        x        x        x        x                "
   ]
  },
  {
   "cell_type": "markdown",
   "id": "18d90007-01a8-40dc-8b6b-62243b7f338c",
   "metadata": {},
   "source": [
    "Q No.06    What is a complex number in mathematics, and how is it represented in Python?"
   ]
  },
  {
   "cell_type": "markdown",
   "id": "d3ac8941-3a46-4c75-8d1a-fe2c640452ad",
   "metadata": {},
   "source": [
    "Ans:-"
   ]
  },
  {
   "cell_type": "markdown",
   "id": "13b29744-3360-473a-8ebd-4cc317a96bde",
   "metadata": {},
   "source": [
    "Complex numbers are the numbers that are expressed in the form of a+ib where, a,b are real numbers and 'i' is an imaginary number called “iota”. "
   ]
  },
  {
   "cell_type": "markdown",
   "id": "3ae7f2f3-1635-4f85-97ce-5f845e6e7eb2",
   "metadata": {},
   "source": [
    "The value of i = (√-1)."
   ]
  },
  {
   "cell_type": "markdown",
   "id": "8c831e36-b95c-440a-9584-47c292f67322",
   "metadata": {},
   "source": [
    "For Example:"
   ]
  },
  {
   "cell_type": "markdown",
   "id": "8819142d-3f7e-4c30-b3fd-1eb25a55cf77",
   "metadata": {},
   "source": [
    "2+3i is a complex number,\n",
    "where 2 is a real number (Re) and 3i is an imaginary number (Im)."
   ]
  },
  {
   "cell_type": "markdown",
   "id": "de414694-00ce-4417-aa81-c31bb63247d4",
   "metadata": {},
   "source": [
    "Whereas in python complex data is represented by \"j\""
   ]
  },
  {
   "cell_type": "markdown",
   "id": "bb69b054-1f9c-418c-9137-6abef8136c4e",
   "metadata": {},
   "source": [
    "For Example:"
   ]
  },
  {
   "cell_type": "code",
   "execution_count": 12,
   "id": "f252c170-77cb-4155-8923-e3a4901a6676",
   "metadata": {},
   "outputs": [],
   "source": [
    "a = 7j"
   ]
  },
  {
   "cell_type": "markdown",
   "id": "2f0b8e0d-310b-470a-8bc9-915604e42b78",
   "metadata": {},
   "source": [
    "Here, 7j is a complex data"
   ]
  },
  {
   "cell_type": "code",
   "execution_count": 13,
   "id": "198f19fe-477f-42b2-ae6d-7d1dbfe76ac5",
   "metadata": {},
   "outputs": [
    {
     "data": {
      "text/plain": [
       "complex"
      ]
     },
     "execution_count": 13,
     "metadata": {},
     "output_type": "execute_result"
    }
   ],
   "source": [
    "type(a)"
   ]
  },
  {
   "cell_type": "markdown",
   "id": "bb4d50ec-ebe4-4d21-8f98-4ed048afb1d5",
   "metadata": {},
   "source": [
    "        x        x        x        x        x        x        x        x        x        x                "
   ]
  },
  {
   "cell_type": "markdown",
   "id": "3dffad31-b5c7-4520-b42f-a570c136d884",
   "metadata": {},
   "source": [
    "Q No.07-    What is the correct way to declare a variable named age and assign the value 25 to it?"
   ]
  },
  {
   "cell_type": "markdown",
   "id": "8536036f-6b9e-4cfe-99e5-55bd26dca767",
   "metadata": {},
   "source": [
    "Ans:-"
   ]
  },
  {
   "cell_type": "code",
   "execution_count": 14,
   "id": "a93e7be1-1901-49d7-9183-0ba42d3ba61a",
   "metadata": {},
   "outputs": [],
   "source": [
    "age = 25"
   ]
  },
  {
   "cell_type": "markdown",
   "id": "32b3eaf9-6c27-4b1e-bf04-cea3777a90d3",
   "metadata": {},
   "source": [
    "        x        x        x        x        x        x        x        x        x        x                "
   ]
  },
  {
   "cell_type": "markdown",
   "id": "ea384588-2495-4ba5-a2a0-bc0c3f567fdb",
   "metadata": {},
   "source": [
    "Q No.08-    Declare a variable named price and assign the value 9.99 to it. What data type does this variable\n",
    "belong to?"
   ]
  },
  {
   "cell_type": "markdown",
   "id": "b26217f8-831c-40c0-aa67-76e460c88c14",
   "metadata": {},
   "source": [
    "Ans:-"
   ]
  },
  {
   "cell_type": "code",
   "execution_count": 15,
   "id": "381683f2-336f-4b0a-b0af-c12fa6700168",
   "metadata": {},
   "outputs": [],
   "source": [
    "price = 9.99"
   ]
  },
  {
   "cell_type": "code",
   "execution_count": 16,
   "id": "a82bc775-ee7a-4cbb-aa3d-a03e3642980c",
   "metadata": {},
   "outputs": [
    {
     "data": {
      "text/plain": [
       "float"
      ]
     },
     "execution_count": 16,
     "metadata": {},
     "output_type": "execute_result"
    }
   ],
   "source": [
    "type(price)"
   ]
  },
  {
   "cell_type": "markdown",
   "id": "7e698b06-191a-4162-8ff8-9f4c3bed99e6",
   "metadata": {},
   "source": [
    "Here, Above data type of price variable belong to float "
   ]
  },
  {
   "cell_type": "markdown",
   "id": "06395c61-75d6-423d-a8e7-a954abbd0178",
   "metadata": {},
   "source": [
    "        x        x        x        x        x        x        x        x        x        x                "
   ]
  },
  {
   "cell_type": "markdown",
   "id": "b1683999-82fe-4081-bfc5-0d7d24e9cd2b",
   "metadata": {},
   "source": [
    "Q No.09-    Create a variable named name and assign your full name to it as a string. How would you print the\n",
    "value of this variable?"
   ]
  },
  {
   "cell_type": "markdown",
   "id": "e33064f1-4abd-42a0-a000-c05dc56c6f96",
   "metadata": {},
   "source": [
    "Ans:-"
   ]
  },
  {
   "cell_type": "code",
   "execution_count": 17,
   "id": "bee372c7-c3f5-4684-bc4e-f4d03b7d5519",
   "metadata": {},
   "outputs": [],
   "source": [
    "name = \"Ankit Kumar\""
   ]
  },
  {
   "cell_type": "markdown",
   "id": "5d98d6e7-0a87-4217-919a-4cb49ad12d78",
   "metadata": {},
   "source": [
    "Just recall the variable name to print variable value"
   ]
  },
  {
   "cell_type": "code",
   "execution_count": 18,
   "id": "2504ca78-2377-48b7-afb3-4ffd5c98b9d6",
   "metadata": {},
   "outputs": [
    {
     "data": {
      "text/plain": [
       "'Ankit Kumar'"
      ]
     },
     "execution_count": 18,
     "metadata": {},
     "output_type": "execute_result"
    }
   ],
   "source": [
    "name"
   ]
  },
  {
   "cell_type": "markdown",
   "id": "4105833d-bcc2-4d8d-9019-613b51a1028e",
   "metadata": {},
   "source": [
    "        x        x        x        x        x        x        x        x        x        x                "
   ]
  },
  {
   "cell_type": "markdown",
   "id": "2d566430-27be-43bc-9b25-8f5c6761b0a7",
   "metadata": {},
   "source": [
    "Q No.10-    Given the string \"Hello, World!\", extract the substring \"World\"."
   ]
  },
  {
   "cell_type": "markdown",
   "id": "fe0cdcd3-cd56-468d-9aa1-e72f13463a90",
   "metadata": {},
   "source": [
    "Ans:-"
   ]
  },
  {
   "cell_type": "markdown",
   "id": "606c9b1b-da78-416d-bdb3-badaff20ac11",
   "metadata": {},
   "source": [
    "Firstly we have to assign the string value to any variable"
   ]
  },
  {
   "cell_type": "code",
   "execution_count": 19,
   "id": "62b0bad3-6d0d-48c8-9a0a-be10677c23a1",
   "metadata": {},
   "outputs": [],
   "source": [
    "x = \"Hello, World!\""
   ]
  },
  {
   "cell_type": "code",
   "execution_count": 20,
   "id": "af92195a-2cf3-497d-89c3-9c2844ca6c61",
   "metadata": {},
   "outputs": [
    {
     "data": {
      "text/plain": [
       "'World'"
      ]
     },
     "execution_count": 20,
     "metadata": {},
     "output_type": "execute_result"
    }
   ],
   "source": [
    "x[7:12]"
   ]
  },
  {
   "cell_type": "markdown",
   "id": "ff4d7b01-f81f-4e52-82e3-7802831b23d2",
   "metadata": {},
   "source": [
    "        x        x        x        x        x        x        x        x        x        x                "
   ]
  },
  {
   "cell_type": "markdown",
   "id": "502883b7-fc06-40bd-b545-9cae1065e117",
   "metadata": {},
   "source": [
    "Q No.11-    Create a variable named \"is_student\" and assign it a boolean value indicating whether you are\n",
    "currently a student or not."
   ]
  },
  {
   "cell_type": "markdown",
   "id": "b71680fc-e662-43b4-98ce-4971ae83f470",
   "metadata": {},
   "source": [
    "Ans:-"
   ]
  },
  {
   "cell_type": "markdown",
   "id": "b4c269a7-06fb-425c-a6f7-d7d84f36a1a8",
   "metadata": {},
   "source": [
    "If you are currently a student, you can assign the value True to the variable."
   ]
  },
  {
   "cell_type": "code",
   "execution_count": 21,
   "id": "e3aff330-ecfa-4c3e-b2b8-7dcf1bb74d28",
   "metadata": {},
   "outputs": [],
   "source": [
    "is_student = True"
   ]
  },
  {
   "cell_type": "markdown",
   "id": "ad9fc3a8-1190-43e3-91dc-b22d04aa2ee7",
   "metadata": {},
   "source": [
    "If you are not a student, you can assign the value False to the variable."
   ]
  },
  {
   "cell_type": "code",
   "execution_count": 22,
   "id": "f9a8a1ac-1620-4762-966d-083bad97b577",
   "metadata": {},
   "outputs": [],
   "source": [
    "is_student = False"
   ]
  },
  {
   "cell_type": "markdown",
   "id": "a581e66a-42cc-446c-b564-f979023cfe4c",
   "metadata": {},
   "source": [
    "                                                END                    "
   ]
  },
  {
   "cell_type": "code",
   "execution_count": null,
   "id": "9609a187-5bec-41e4-9ac8-6ddb7c3d9610",
   "metadata": {},
   "outputs": [],
   "source": []
  }
 ],
 "metadata": {
  "kernelspec": {
   "display_name": "Python 3 (ipykernel)",
   "language": "python",
   "name": "python3"
  },
  "language_info": {
   "codemirror_mode": {
    "name": "ipython",
    "version": 3
   },
   "file_extension": ".py",
   "mimetype": "text/x-python",
   "name": "python",
   "nbconvert_exporter": "python",
   "pygments_lexer": "ipython3",
   "version": "3.10.8"
  }
 },
 "nbformat": 4,
 "nbformat_minor": 5
}
